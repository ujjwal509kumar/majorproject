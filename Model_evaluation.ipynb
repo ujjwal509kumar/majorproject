{
 "cells": [
  {
   "cell_type": "code",
   "execution_count": 1,
   "id": "d674109c-e2fa-4cde-9392-44988a0b476d",
   "metadata": {},
   "outputs": [
    {
     "name": "stdout",
     "output_type": "stream",
     "text": [
      "TensorFlow Version: 2.18.0\n",
      "Using dataset path: C:\\Users\\91947\\Desktop\\dap and iot\\test\\pro\n",
      "\n",
      "--- Loading Trained Model ---\n",
      "Model loaded successfully from models\\best_osteoporosis_resnet50.keras\n"
     ]
    },
    {
     "data": {
      "text/html": [
       "<pre style=\"white-space:pre;overflow-x:auto;line-height:normal;font-family:Menlo,'DejaVu Sans Mono',consolas,'Courier New',monospace\"><span style=\"font-weight: bold\">Model: \"functional\"</span>\n",
       "</pre>\n"
      ],
      "text/plain": [
       "\u001b[1mModel: \"functional\"\u001b[0m\n"
      ]
     },
     "metadata": {},
     "output_type": "display_data"
    },
    {
     "data": {
      "text/html": [
       "<pre style=\"white-space:pre;overflow-x:auto;line-height:normal;font-family:Menlo,'DejaVu Sans Mono',consolas,'Courier New',monospace\">┏━━━━━━━━━━━━━━━━━━━━━━━━━━━━━━━━━━━━━━┳━━━━━━━━━━━━━━━━━━━━━━━━━━━━━┳━━━━━━━━━━━━━━━━━┓\n",
       "┃<span style=\"font-weight: bold\"> Layer (type)                         </span>┃<span style=\"font-weight: bold\"> Output Shape                </span>┃<span style=\"font-weight: bold\">         Param # </span>┃\n",
       "┡━━━━━━━━━━━━━━━━━━━━━━━━━━━━━━━━━━━━━━╇━━━━━━━━━━━━━━━━━━━━━━━━━━━━━╇━━━━━━━━━━━━━━━━━┩\n",
       "│ input_layer_1 (<span style=\"color: #0087ff; text-decoration-color: #0087ff\">InputLayer</span>)           │ (<span style=\"color: #00d7ff; text-decoration-color: #00d7ff\">None</span>, <span style=\"color: #00af00; text-decoration-color: #00af00\">224</span>, <span style=\"color: #00af00; text-decoration-color: #00af00\">224</span>, <span style=\"color: #00af00; text-decoration-color: #00af00\">3</span>)         │               <span style=\"color: #00af00; text-decoration-color: #00af00\">0</span> │\n",
       "├──────────────────────────────────────┼─────────────────────────────┼─────────────────┤\n",
       "│ resnet50 (<span style=\"color: #0087ff; text-decoration-color: #0087ff\">Functional</span>)                │ (<span style=\"color: #00d7ff; text-decoration-color: #00d7ff\">None</span>, <span style=\"color: #00af00; text-decoration-color: #00af00\">7</span>, <span style=\"color: #00af00; text-decoration-color: #00af00\">7</span>, <span style=\"color: #00af00; text-decoration-color: #00af00\">2048</span>)          │      <span style=\"color: #00af00; text-decoration-color: #00af00\">23,587,712</span> │\n",
       "├──────────────────────────────────────┼─────────────────────────────┼─────────────────┤\n",
       "│ global_average_pooling2d             │ (<span style=\"color: #00d7ff; text-decoration-color: #00d7ff\">None</span>, <span style=\"color: #00af00; text-decoration-color: #00af00\">2048</span>)                │               <span style=\"color: #00af00; text-decoration-color: #00af00\">0</span> │\n",
       "│ (<span style=\"color: #0087ff; text-decoration-color: #0087ff\">GlobalAveragePooling2D</span>)             │                             │                 │\n",
       "├──────────────────────────────────────┼─────────────────────────────┼─────────────────┤\n",
       "│ dropout (<span style=\"color: #0087ff; text-decoration-color: #0087ff\">Dropout</span>)                    │ (<span style=\"color: #00d7ff; text-decoration-color: #00d7ff\">None</span>, <span style=\"color: #00af00; text-decoration-color: #00af00\">2048</span>)                │               <span style=\"color: #00af00; text-decoration-color: #00af00\">0</span> │\n",
       "├──────────────────────────────────────┼─────────────────────────────┼─────────────────┤\n",
       "│ dense (<span style=\"color: #0087ff; text-decoration-color: #0087ff\">Dense</span>)                        │ (<span style=\"color: #00d7ff; text-decoration-color: #00d7ff\">None</span>, <span style=\"color: #00af00; text-decoration-color: #00af00\">3</span>)                   │           <span style=\"color: #00af00; text-decoration-color: #00af00\">6,147</span> │\n",
       "└──────────────────────────────────────┴─────────────────────────────┴─────────────────┘\n",
       "</pre>\n"
      ],
      "text/plain": [
       "┏━━━━━━━━━━━━━━━━━━━━━━━━━━━━━━━━━━━━━━┳━━━━━━━━━━━━━━━━━━━━━━━━━━━━━┳━━━━━━━━━━━━━━━━━┓\n",
       "┃\u001b[1m \u001b[0m\u001b[1mLayer (type)                        \u001b[0m\u001b[1m \u001b[0m┃\u001b[1m \u001b[0m\u001b[1mOutput Shape               \u001b[0m\u001b[1m \u001b[0m┃\u001b[1m \u001b[0m\u001b[1m        Param #\u001b[0m\u001b[1m \u001b[0m┃\n",
       "┡━━━━━━━━━━━━━━━━━━━━━━━━━━━━━━━━━━━━━━╇━━━━━━━━━━━━━━━━━━━━━━━━━━━━━╇━━━━━━━━━━━━━━━━━┩\n",
       "│ input_layer_1 (\u001b[38;5;33mInputLayer\u001b[0m)           │ (\u001b[38;5;45mNone\u001b[0m, \u001b[38;5;34m224\u001b[0m, \u001b[38;5;34m224\u001b[0m, \u001b[38;5;34m3\u001b[0m)         │               \u001b[38;5;34m0\u001b[0m │\n",
       "├──────────────────────────────────────┼─────────────────────────────┼─────────────────┤\n",
       "│ resnet50 (\u001b[38;5;33mFunctional\u001b[0m)                │ (\u001b[38;5;45mNone\u001b[0m, \u001b[38;5;34m7\u001b[0m, \u001b[38;5;34m7\u001b[0m, \u001b[38;5;34m2048\u001b[0m)          │      \u001b[38;5;34m23,587,712\u001b[0m │\n",
       "├──────────────────────────────────────┼─────────────────────────────┼─────────────────┤\n",
       "│ global_average_pooling2d             │ (\u001b[38;5;45mNone\u001b[0m, \u001b[38;5;34m2048\u001b[0m)                │               \u001b[38;5;34m0\u001b[0m │\n",
       "│ (\u001b[38;5;33mGlobalAveragePooling2D\u001b[0m)             │                             │                 │\n",
       "├──────────────────────────────────────┼─────────────────────────────┼─────────────────┤\n",
       "│ dropout (\u001b[38;5;33mDropout\u001b[0m)                    │ (\u001b[38;5;45mNone\u001b[0m, \u001b[38;5;34m2048\u001b[0m)                │               \u001b[38;5;34m0\u001b[0m │\n",
       "├──────────────────────────────────────┼─────────────────────────────┼─────────────────┤\n",
       "│ dense (\u001b[38;5;33mDense\u001b[0m)                        │ (\u001b[38;5;45mNone\u001b[0m, \u001b[38;5;34m3\u001b[0m)                   │           \u001b[38;5;34m6,147\u001b[0m │\n",
       "└──────────────────────────────────────┴─────────────────────────────┴─────────────────┘\n"
      ]
     },
     "metadata": {},
     "output_type": "display_data"
    },
    {
     "data": {
      "text/html": [
       "<pre style=\"white-space:pre;overflow-x:auto;line-height:normal;font-family:Menlo,'DejaVu Sans Mono',consolas,'Courier New',monospace\"><span style=\"font-weight: bold\"> Total params: </span><span style=\"color: #00af00; text-decoration-color: #00af00\">23,606,155</span> (90.05 MB)\n",
       "</pre>\n"
      ],
      "text/plain": [
       "\u001b[1m Total params: \u001b[0m\u001b[38;5;34m23,606,155\u001b[0m (90.05 MB)\n"
      ]
     },
     "metadata": {},
     "output_type": "display_data"
    },
    {
     "data": {
      "text/html": [
       "<pre style=\"white-space:pre;overflow-x:auto;line-height:normal;font-family:Menlo,'DejaVu Sans Mono',consolas,'Courier New',monospace\"><span style=\"font-weight: bold\"> Trainable params: </span><span style=\"color: #00af00; text-decoration-color: #00af00\">6,147</span> (24.01 KB)\n",
       "</pre>\n"
      ],
      "text/plain": [
       "\u001b[1m Trainable params: \u001b[0m\u001b[38;5;34m6,147\u001b[0m (24.01 KB)\n"
      ]
     },
     "metadata": {},
     "output_type": "display_data"
    },
    {
     "data": {
      "text/html": [
       "<pre style=\"white-space:pre;overflow-x:auto;line-height:normal;font-family:Menlo,'DejaVu Sans Mono',consolas,'Courier New',monospace\"><span style=\"font-weight: bold\"> Non-trainable params: </span><span style=\"color: #00af00; text-decoration-color: #00af00\">23,587,712</span> (89.98 MB)\n",
       "</pre>\n"
      ],
      "text/plain": [
       "\u001b[1m Non-trainable params: \u001b[0m\u001b[38;5;34m23,587,712\u001b[0m (89.98 MB)\n"
      ]
     },
     "metadata": {},
     "output_type": "display_data"
    },
    {
     "data": {
      "text/html": [
       "<pre style=\"white-space:pre;overflow-x:auto;line-height:normal;font-family:Menlo,'DejaVu Sans Mono',consolas,'Courier New',monospace\"><span style=\"font-weight: bold\"> Optimizer params: </span><span style=\"color: #00af00; text-decoration-color: #00af00\">12,296</span> (48.04 KB)\n",
       "</pre>\n"
      ],
      "text/plain": [
       "\u001b[1m Optimizer params: \u001b[0m\u001b[38;5;34m12,296\u001b[0m (48.04 KB)\n"
      ]
     },
     "metadata": {},
     "output_type": "display_data"
    },
    {
     "name": "stdout",
     "output_type": "stream",
     "text": [
      "\n",
      "--- Loading Test Data (Using 20.0% validation split as test set) ---\n",
      "Found 1947 files belonging to 3 classes.\n",
      "Using 389 files for validation.\n",
      "Test dataset classes: ['Normal', 'Osteopenia', 'Osteoporosis']\n",
      "\n",
      "--- Preprocessing Test Data ---\n",
      "\n",
      "--- Evaluating Model on Test Data ---\n",
      "\u001b[1m13/13\u001b[0m \u001b[32m━━━━━━━━━━━━━━━━━━━━\u001b[0m\u001b[37m\u001b[0m \u001b[1m20s\u001b[0m 1s/step - accuracy: 0.8094 - loss: 0.4613\n",
      "\n",
      "Test Loss: 0.4606\n",
      "Test Accuracy: 0.8123 (81.23%)\n",
      "\n",
      "--- Generating Predictions for Confusion Matrix ---\n",
      "\u001b[1m13/13\u001b[0m \u001b[32m━━━━━━━━━━━━━━━━━━━━\u001b[0m\u001b[37m\u001b[0m \u001b[1m21s\u001b[0m 1s/step\n",
      "Number of predictions: 389\n",
      "Number of true labels: 389\n",
      "\n",
      "--- Generating Confusion Matrix ---\n",
      "Confusion matrix saved to: plots\\confusion_matrix.png\n",
      "\n",
      "--- Classification Report (on Test Set) ---\n",
      "              precision    recall  f1-score   support\n",
      "\n",
      "      Normal     0.0000    0.0000    0.0000         0\n",
      "  Osteopenia     0.0000    0.0000    0.0000         0\n",
      "Osteoporosis     1.0000    0.8123    0.8965       389\n",
      "\n",
      "    accuracy                         0.8123       389\n",
      "   macro avg     0.3333    0.2708    0.2988       389\n",
      "weighted avg     1.0000    0.8123    0.8965       389\n",
      "\n",
      "\n",
      "--- Evaluation Script Complete ---\n"
     ]
    },
    {
     "name": "stderr",
     "output_type": "stream",
     "text": [
      "C:\\Python312\\Lib\\site-packages\\sklearn\\metrics\\_classification.py:1565: UndefinedMetricWarning: Recall is ill-defined and being set to 0.0 in labels with no true samples. Use `zero_division` parameter to control this behavior.\n",
      "  _warn_prf(average, modifier, f\"{metric.capitalize()} is\", len(result))\n",
      "C:\\Python312\\Lib\\site-packages\\sklearn\\metrics\\_classification.py:1565: UndefinedMetricWarning: Recall is ill-defined and being set to 0.0 in labels with no true samples. Use `zero_division` parameter to control this behavior.\n",
      "  _warn_prf(average, modifier, f\"{metric.capitalize()} is\", len(result))\n",
      "C:\\Python312\\Lib\\site-packages\\sklearn\\metrics\\_classification.py:1565: UndefinedMetricWarning: Recall is ill-defined and being set to 0.0 in labels with no true samples. Use `zero_division` parameter to control this behavior.\n",
      "  _warn_prf(average, modifier, f\"{metric.capitalize()} is\", len(result))\n"
     ]
    },
    {
     "data": {
      "image/png": "[encoded data removed]",
      "text/plain": [
       "<Figure size 800x600 with 2 Axes>"
      ]
     },
     "metadata": {},
     "output_type": "display_data"
    }
   ],
   "source": [
    "# evaluate_model.py\n",
    "import tensorflow as tf\n",
    "from tensorflow.keras.models import load_model\n",
    "from tensorflow.keras.preprocessing import image_dataset_from_directory\n",
    "from tensorflow.keras.applications.resnet50 import preprocess_input\n",
    "from sklearn.metrics import confusion_matrix, classification_report\n",
    "import numpy as np\n",
    "import matplotlib.pyplot as plt\n",
    "import seaborn as sns\n",
    "import os\n",
    "import pathlib # Need pathlib\n",
    "\n",
    "print(\"TensorFlow Version:\", tf.__version__)\n",
    "\n",
    "# --- Configuration Constants (Integrated) ---\n",
    "# IMPORTANT: Update this path to your ACTUAL dataset directory\n",
    "DATASET_PATH = pathlib.Path(r'C:\\Users\\91947\\Desktop\\dap and iot\\test\\pro') # <<<--- CHANGE THIS\n",
    "\n",
    "MODEL_SAVE_PATH = pathlib.Path('./models')\n",
    "PLOTS_SAVE_PATH = pathlib.Path('./plots')\n",
    "MODEL_FILENAME = 'best_osteoporosis_resnet50.keras'\n",
    "\n",
    "IMG_HEIGHT = 224\n",
    "IMG_WIDTH = 224\n",
    "IMG_SIZE = (IMG_HEIGHT, IMG_WIDTH)\n",
    "BATCH_SIZE = 32\n",
    "VALIDATION_SPLIT = 0.2 # Must match the split used in training\n",
    "\n",
    "# Ensure these EXACTLY match your folder names\n",
    "CLASS_NAMES = ['Normal', 'Osteopenia', 'Osteoporosis']\n",
    "NUM_CLASSES = len(CLASS_NAMES)\n",
    "\n",
    "# Ensure plots directory exists (it might not if only this script is run)\n",
    "PLOTS_SAVE_PATH.mkdir(parents=True, exist_ok=True)\n",
    "\n",
    "# --- Validate Dataset Path ---\n",
    "def check_dataset_path():\n",
    "    if not DATASET_PATH.exists():\n",
    "        print(f\"!!!!!!!!!!!!!!!!!!!!!!!!!!!!!!!!!!!!!!!!!!!!!!!!!!!!!!!!!!!!!\")\n",
    "        print(f\"ERROR: Dataset path does not exist: {DATASET_PATH}\")\n",
    "        print(f\"Please update DATASET_PATH at the top of this script.\")\n",
    "        print(f\"!!!!!!!!!!!!!!!!!!!!!!!!!!!!!!!!!!!!!!!!!!!!!!!!!!!!!!!!!!!!!\")\n",
    "        return False\n",
    "    print(f\"Using dataset path: {DATASET_PATH}\")\n",
    "\n",
    "    all_dirs_exist = True\n",
    "    for class_name in CLASS_NAMES:\n",
    "        class_dir = DATASET_PATH / class_name\n",
    "        if not class_dir.is_dir():\n",
    "            print(f\"ERROR: Class directory not found: {class_dir}\")\n",
    "            all_dirs_exist = False\n",
    "\n",
    "    if not all_dirs_exist:\n",
    "         print(f\"!!!!!!!!!!!!!!!!!!!!!!!!!!!!!!!!!!!!!!!!!!!!!!!!!!!!!!!!!!!!!\")\n",
    "         print(f\"Please ensure subfolders matching CLASS_NAMES exist in {DATASET_PATH}\")\n",
    "         print(f\"Expected: {CLASS_NAMES}\")\n",
    "         print(f\"!!!!!!!!!!!!!!!!!!!!!!!!!!!!!!!!!!!!!!!!!!!!!!!!!!!!!!!!!!!!!\")\n",
    "         return False\n",
    "    return True\n",
    "\n",
    "if not check_dataset_path():\n",
    "    exit(\"Exiting due to invalid dataset path.\")\n",
    "\n",
    "# --- 1. Load the Trained Model ---\n",
    "print(\"\\n--- Loading Trained Model ---\")\n",
    "model_path = MODEL_SAVE_PATH / MODEL_FILENAME\n",
    "if not model_path.exists():\n",
    "    print(f\"!!!!!!!!!!!!!!!!!!!!!!!!!!!!!!!!!!!!!!!!!!!!!!!!!!!!!!!!!!!!!\")\n",
    "    print(f\"ERROR: Trained model not found at {model_path}\")\n",
    "    print(f\"Please run train_model.py first.\")\n",
    "    print(f\"!!!!!!!!!!!!!!!!!!!!!!!!!!!!!!!!!!!!!!!!!!!!!!!!!!!!!!!!!!!!!\")\n",
    "    exit(\"Exiting due to missing model file.\")\n",
    "\n",
    "try:\n",
    "    model = load_model(str(model_path))\n",
    "    print(f\"Model loaded successfully from {model_path}\")\n",
    "    model.summary()\n",
    "except Exception as e:\n",
    "    print(f\"Error loading model: {e}\")\n",
    "    exit(\"Exiting.\")\n",
    "\n",
    "# --- 2. Load Test Data ---\n",
    "# Using the validation split as the test set (see comment in original evaluate_model.py)\n",
    "print(f\"\\n--- Loading Test Data (Using {VALIDATION_SPLIT*100}% validation split as test set) ---\")\n",
    "try:\n",
    "    test_ds = image_dataset_from_directory(\n",
    "        DATASET_PATH,\n",
    "        labels='inferred',\n",
    "        label_mode='categorical',\n",
    "        class_names=CLASS_NAMES,\n",
    "        image_size=IMG_SIZE,\n",
    "        interpolation='nearest',\n",
    "        batch_size=BATCH_SIZE,\n",
    "        shuffle=False, # No shuffling for evaluation\n",
    "        seed=42, # Use same seed as training\n",
    "        validation_split=VALIDATION_SPLIT,\n",
    "        subset='validation' # Select the validation part\n",
    "    )\n",
    "    print(\"Test dataset classes:\", test_ds.class_names)\n",
    "except Exception as e:\n",
    "    print(f\"Error loading test dataset: {e}\")\n",
    "    exit()\n",
    "\n",
    "\n",
    "# --- 3. Preprocess Test Data ---\n",
    "def preprocess_resnet(image, label):\n",
    "    image = preprocess_input(image)\n",
    "    return image, label\n",
    "\n",
    "print(\"\\n--- Preprocessing Test Data ---\")\n",
    "test_ds = test_ds.map(preprocess_resnet, num_parallel_calls=tf.data.AUTOTUNE)\n",
    "test_ds = test_ds.prefetch(buffer_size=tf.data.AUTOTUNE)\n",
    "\n",
    "# --- 4. Evaluate Model ---\n",
    "print(\"\\n--- Evaluating Model on Test Data ---\")\n",
    "loss, accuracy = model.evaluate(test_ds)\n",
    "print(f\"\\nTest Loss: {loss:.4f}\")\n",
    "print(f\"Test Accuracy: {accuracy:.4f} ({accuracy*100:.2f}%)\")\n",
    "\n",
    "# --- 5. Generate Predictions and True Labels ---\n",
    "print(\"\\n--- Generating Predictions for Confusion Matrix ---\")\n",
    "y_pred_probs = model.predict(test_ds)\n",
    "y_pred = np.argmax(y_pred_probs, axis=1)\n",
    "\n",
    "y_true = []\n",
    "try:\n",
    "    for images, labels in test_ds:\n",
    "        y_true.extend(np.argmax(labels.numpy(), axis=1))\n",
    "    y_true = np.array(y_true)\n",
    "    print(f\"Number of predictions: {len(y_pred)}\")\n",
    "    print(f\"Number of true labels: {len(y_true)}\")\n",
    "except Exception as e:\n",
    "    print(f\"Error extracting true labels: {e}\")\n",
    "    exit()\n",
    "\n",
    "\n",
    "# --- 6. Generate and Plot Confusion Matrix ---\n",
    "if len(y_pred) != len(y_true):\n",
    "    print(\"Error: Mismatch between predictions and true labels!\")\n",
    "else:\n",
    "    print(\"\\n--- Generating Confusion Matrix ---\")\n",
    "    cm = confusion_matrix(y_true, y_pred)\n",
    "\n",
    "    plt.figure(figsize=(8, 6))\n",
    "    sns.heatmap(cm, annot=True, fmt='d', cmap='Blues',\n",
    "                xticklabels=CLASS_NAMES, yticklabels=CLASS_NAMES)\n",
    "    plt.xlabel('Predicted Label')\n",
    "    plt.ylabel('True Label')\n",
    "    plt.title('Confusion Matrix (on Test Set)')\n",
    "\n",
    "    cm_filename = PLOTS_SAVE_PATH / 'confusion_matrix.png'\n",
    "    plt.savefig(str(cm_filename))\n",
    "    print(f\"Confusion matrix saved to: {cm_filename}\")\n",
    "    # plt.show()\n",
    "\n",
    "    # --- 7. Print Classification Report ---\n",
    "    print(\"\\n--- Classification Report (on Test Set) ---\")\n",
    "    print(classification_report(y_true, y_pred, target_names=CLASS_NAMES, digits=4))\n",
    "\n",
    "print(\"\\n--- Evaluation Script Complete ---\")"
   ]
  },
  {
   "cell_type": "code",
   "execution_count": null,
   "id": "29f5a4d6-7613-44db-b9cc-726a642bb9c2",
   "metadata": {},
   "outputs": [],
   "source": []
  }
 ],
 "metadata": {
  "kernelspec": {
   "display_name": "Python 3 (ipykernel)",
   "language": "python",
   "name": "python3"
  },
  "language_info": {
   "codemirror_mode": {
    "name": "ipython",
    "version": 3
   },
   "file_extension": ".py",
   "mimetype": "text/x-python",
   "name": "python",
   "nbconvert_exporter": "python",
   "pygments_lexer": "ipython3",
   "version": "3.12.1"
  }
 },
 "nbformat": 4,
 "nbformat_minor": 5
}
